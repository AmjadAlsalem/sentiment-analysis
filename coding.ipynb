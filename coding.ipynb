{
 "cells": [
  {
   "cell_type": "code",
   "execution_count": 1,
   "id": "3f21d5d2",
   "metadata": {},
   "outputs": [],
   "source": [
    "# import libraries\n",
    "import pandas as pd\n",
    "from ruqiya.ruqiya import clean_text\n",
    "import re\n",
    "import string\n",
    "import nltk\n",
    "import numpy as np\n",
    "import ktrain\n",
    "from ktrain import text\n",
    "import seaborn as sns\n",
    "from sklearn.model_selection import train_test_split\n",
    "from sklearn.feature_extraction.text import CountVectorizer \n",
    "#remove emojies\n",
    "import demoji"
   ]
  },
  {
   "cell_type": "code",
   "execution_count": 2,
   "id": "585407eb",
   "metadata": {},
   "outputs": [
    {
     "data": {
      "text/html": [
       "<div>\n",
       "<style scoped>\n",
       "    .dataframe tbody tr th:only-of-type {\n",
       "        vertical-align: middle;\n",
       "    }\n",
       "\n",
       "    .dataframe tbody tr th {\n",
       "        vertical-align: top;\n",
       "    }\n",
       "\n",
       "    .dataframe thead th {\n",
       "        text-align: right;\n",
       "    }\n",
       "</style>\n",
       "<table border=\"1\" class=\"dataframe\">\n",
       "  <thead>\n",
       "    <tr style=\"text-align: right;\">\n",
       "      <th></th>\n",
       "      <th>Tweet</th>\n",
       "      <th>Lable</th>\n",
       "      <th>Company</th>\n",
       "    </tr>\n",
       "  </thead>\n",
       "  <tbody>\n",
       "    <tr>\n",
       "      <th>0</th>\n",
       "      <td>@CareemCare @lolliklulu الحين اذا العميل اتاخر...</td>\n",
       "      <td>Negative</td>\n",
       "      <td>Careem</td>\n",
       "    </tr>\n",
       "    <tr>\n",
       "      <th>1</th>\n",
       "      <td>@CareemCare اتواصلت معاكم بالتطبيق اناخذ مني م...</td>\n",
       "      <td>Negative</td>\n",
       "      <td>Careem</td>\n",
       "    </tr>\n",
       "    <tr>\n",
       "      <th>2</th>\n",
       "      <td>@gooole99 @CareemCare انا كمان مو شغال مدري اش...</td>\n",
       "      <td>Negative</td>\n",
       "      <td>Careem</td>\n",
       "    </tr>\n",
       "    <tr>\n",
       "      <th>3</th>\n",
       "      <td>@CareemCare @Cz10112 @Linakh32 ترسلون هنا على ...</td>\n",
       "      <td>Negative</td>\n",
       "      <td>Careem</td>\n",
       "    </tr>\n",
       "    <tr>\n",
       "      <th>4</th>\n",
       "      <td>@Li1Ra @HRDF_Care @CareemCare وش السالفه ليه معلق</td>\n",
       "      <td>Negative</td>\n",
       "      <td>Careem</td>\n",
       "    </tr>\n",
       "  </tbody>\n",
       "</table>\n",
       "</div>"
      ],
      "text/plain": [
       "                                               Tweet      Lable Company\n",
       "0  @CareemCare @lolliklulu الحين اذا العميل اتاخر...   Negative  Careem\n",
       "1  @CareemCare اتواصلت معاكم بالتطبيق اناخذ مني م...  Negative   Careem\n",
       "2  @gooole99 @CareemCare انا كمان مو شغال مدري اش...  Negative   Careem\n",
       "3  @CareemCare @Cz10112 @Linakh32 ترسلون هنا على ...  Negative   Careem\n",
       "4  @Li1Ra @HRDF_Care @CareemCare وش السالفه ليه معلق  Negative   Careem"
      ]
     },
     "execution_count": 2,
     "metadata": {},
     "output_type": "execute_result"
    }
   ],
   "source": [
    "# read the dataset\n",
    "delivCOMP =pd.read_csv('delivCOMP_Dataset.xlsx - all.csv')\n",
    "delivCOMP.head()"
   ]
  },
  {
   "cell_type": "code",
   "execution_count": 3,
   "id": "afbac60e",
   "metadata": {},
   "outputs": [
    {
     "data": {
      "text/html": [
       "<div>\n",
       "<style scoped>\n",
       "    .dataframe tbody tr th:only-of-type {\n",
       "        vertical-align: middle;\n",
       "    }\n",
       "\n",
       "    .dataframe tbody tr th {\n",
       "        vertical-align: top;\n",
       "    }\n",
       "\n",
       "    .dataframe thead th {\n",
       "        text-align: right;\n",
       "    }\n",
       "</style>\n",
       "<table border=\"1\" class=\"dataframe\">\n",
       "  <thead>\n",
       "    <tr style=\"text-align: right;\">\n",
       "      <th></th>\n",
       "      <th>Tweet</th>\n",
       "      <th>Lable</th>\n",
       "      <th>Company</th>\n",
       "    </tr>\n",
       "  </thead>\n",
       "  <tbody>\n",
       "    <tr>\n",
       "      <th>count</th>\n",
       "      <td>5332</td>\n",
       "      <td>5356</td>\n",
       "      <td>5357</td>\n",
       "    </tr>\n",
       "    <tr>\n",
       "      <th>unique</th>\n",
       "      <td>4842</td>\n",
       "      <td>4</td>\n",
       "      <td>11</td>\n",
       "    </tr>\n",
       "    <tr>\n",
       "      <th>top</th>\n",
       "      <td>هنقرستيشن يملك أسوء خدمة عملاء</td>\n",
       "      <td>Negative</td>\n",
       "      <td>Hungrstation</td>\n",
       "    </tr>\n",
       "    <tr>\n",
       "      <th>freq</th>\n",
       "      <td>6</td>\n",
       "      <td>3914</td>\n",
       "      <td>1693</td>\n",
       "    </tr>\n",
       "  </tbody>\n",
       "</table>\n",
       "</div>"
      ],
      "text/plain": [
       "                                 Tweet     Lable       Company\n",
       "count                             5332      5356          5357\n",
       "unique                            4842         4            11\n",
       "top     هنقرستيشن يملك أسوء خدمة عملاء  Negative  Hungrstation\n",
       "freq                                 6      3914          1693"
      ]
     },
     "execution_count": 3,
     "metadata": {},
     "output_type": "execute_result"
    }
   ],
   "source": [
    "delivCOMP.describe()"
   ]
  },
  {
   "cell_type": "code",
   "execution_count": 4,
   "id": "c6923529",
   "metadata": {},
   "outputs": [
    {
     "data": {
      "text/plain": [
       "Negative     3914\n",
       "Neutral       724\n",
       "Positive      606\n",
       "Negative      112\n",
       "Name: Lable, dtype: int64"
      ]
     },
     "execution_count": 4,
     "metadata": {},
     "output_type": "execute_result"
    }
   ],
   "source": [
    "delivCOMP[\"Lable\"].value_counts()"
   ]
  },
  {
   "cell_type": "code",
   "execution_count": 5,
   "id": "ff8dab73",
   "metadata": {},
   "outputs": [
    {
     "data": {
      "text/plain": [
       "(606, 3)"
      ]
     },
     "execution_count": 5,
     "metadata": {},
     "output_type": "execute_result"
    }
   ],
   "source": [
    "#show positive data\n",
    "datasetpos = delivCOMP[delivCOMP.Lable == 'Positive']\n",
    "datasetpos.shape"
   ]
  },
  {
   "cell_type": "code",
   "execution_count": 6,
   "id": "6409fe96",
   "metadata": {},
   "outputs": [
    {
     "data": {
      "text/plain": [
       "(3914, 3)"
      ]
     },
     "execution_count": 6,
     "metadata": {},
     "output_type": "execute_result"
    }
   ],
   "source": [
    "#show negative data\n",
    "datasetneg = delivCOMP[delivCOMP.Lable == 'Negative']\n",
    "datasetneg.shape"
   ]
  },
  {
   "cell_type": "code",
   "execution_count": 7,
   "id": "e528c2e4",
   "metadata": {},
   "outputs": [
    {
     "data": {
      "text/plain": [
       "(724, 3)"
      ]
     },
     "execution_count": 7,
     "metadata": {},
     "output_type": "execute_result"
    }
   ],
   "source": [
    "#show neutral data\n",
    "datasetneu = delivCOMP[delivCOMP.Lable == 'Neutral']\n",
    "datasetneu.shape"
   ]
  },
  {
   "cell_type": "code",
   "execution_count": 8,
   "id": "334d54e7",
   "metadata": {},
   "outputs": [
    {
     "data": {
      "text/plain": [
       "(406, 3)"
      ]
     },
     "execution_count": 8,
     "metadata": {},
     "output_type": "execute_result"
    }
   ],
   "source": [
    "#sample of positive data\n",
    "datasetpos = datasetpos.sample(frac=0.67,random_state=200)\n",
    "datasetpos.shape"
   ]
  },
  {
   "cell_type": "code",
   "execution_count": 9,
   "id": "e535416a",
   "metadata": {
    "scrolled": true
   },
   "outputs": [
    {
     "data": {
      "text/html": [
       "<div>\n",
       "<style scoped>\n",
       "    .dataframe tbody tr th:only-of-type {\n",
       "        vertical-align: middle;\n",
       "    }\n",
       "\n",
       "    .dataframe tbody tr th {\n",
       "        vertical-align: top;\n",
       "    }\n",
       "\n",
       "    .dataframe thead th {\n",
       "        text-align: right;\n",
       "    }\n",
       "</style>\n",
       "<table border=\"1\" class=\"dataframe\">\n",
       "  <thead>\n",
       "    <tr style=\"text-align: right;\">\n",
       "      <th></th>\n",
       "      <th>Tweet</th>\n",
       "      <th>Lable</th>\n",
       "      <th>Company</th>\n",
       "    </tr>\n",
       "  </thead>\n",
       "  <tbody>\n",
       "    <tr>\n",
       "      <th>2104</th>\n",
       "      <td>@bebo55839907 @CareemCare كريم عروضهم حلوة واس...</td>\n",
       "      <td>Positive</td>\n",
       "      <td>Careem</td>\n",
       "    </tr>\n",
       "    <tr>\n",
       "      <th>1660</th>\n",
       "      <td>@JahezApp @fahadalattas49 @soomh_hfc @d82_s9 @...</td>\n",
       "      <td>Positive</td>\n",
       "      <td>Jahez</td>\n",
       "    </tr>\n",
       "    <tr>\n",
       "      <th>4785</th>\n",
       "      <td>@HungerStation طفرة عندي مليون ....\\n شكرا لكم...</td>\n",
       "      <td>Positive</td>\n",
       "      <td>Hungrstation</td>\n",
       "    </tr>\n",
       "    <tr>\n",
       "      <th>3600</th>\n",
       "      <td>يالله حسيت بشعور حلو وانا أساعد وحده مضافه عند...</td>\n",
       "      <td>Positive</td>\n",
       "      <td>Mrsool</td>\n",
       "    </tr>\n",
       "    <tr>\n",
       "      <th>3525</th>\n",
       "      <td>@majood_1414 @HungerStation @AppMrsool بالنسبه...</td>\n",
       "      <td>Positive</td>\n",
       "      <td>Mrsool</td>\n",
       "    </tr>\n",
       "  </tbody>\n",
       "</table>\n",
       "</div>"
      ],
      "text/plain": [
       "                                                  Tweet     Lable  \\\n",
       "2104  @bebo55839907 @CareemCare كريم عروضهم حلوة واس...  Positive   \n",
       "1660  @JahezApp @fahadalattas49 @soomh_hfc @d82_s9 @...  Positive   \n",
       "4785  @HungerStation طفرة عندي مليون ....\\n شكرا لكم...  Positive   \n",
       "3600  يالله حسيت بشعور حلو وانا أساعد وحده مضافه عند...  Positive   \n",
       "3525  @majood_1414 @HungerStation @AppMrsool بالنسبه...  Positive   \n",
       "\n",
       "           Company  \n",
       "2104        Careem  \n",
       "1660         Jahez  \n",
       "4785  Hungrstation  \n",
       "3600        Mrsool  \n",
       "3525        Mrsool  "
      ]
     },
     "execution_count": 9,
     "metadata": {},
     "output_type": "execute_result"
    }
   ],
   "source": [
    "# connect all above \n",
    "delivCOMP = pd.concat([datasetpos, datasetneg, datasetneu], axis=0)\n",
    "delivCOMP.head()"
   ]
  },
  {
   "cell_type": "code",
   "execution_count": 10,
   "id": "6d5d32ce",
   "metadata": {},
   "outputs": [
    {
     "data": {
      "text/plain": [
       "Negative    3914\n",
       "Neutral      724\n",
       "Positive     406\n",
       "Name: Lable, dtype: int64"
      ]
     },
     "execution_count": 10,
     "metadata": {},
     "output_type": "execute_result"
    }
   ],
   "source": [
    "#counts each lable\n",
    "delivCOMP[\"Lable\"].value_counts()"
   ]
  },
  {
   "cell_type": "code",
   "execution_count": 11,
   "id": "108ab068",
   "metadata": {},
   "outputs": [
    {
     "data": {
      "text/plain": [
       "Tweet       True\n",
       "Lable      False\n",
       "Company    False\n",
       "dtype: bool"
      ]
     },
     "execution_count": 11,
     "metadata": {},
     "output_type": "execute_result"
    }
   ],
   "source": [
    "delivCOMP.isnull().any(axis=0)"
   ]
  },
  {
   "cell_type": "code",
   "execution_count": 12,
   "id": "1bd338c8",
   "metadata": {},
   "outputs": [],
   "source": [
    "#Pre-Processing \n",
    "#clean and Normalize the text\n",
    "def cleanTxt(text):\n",
    "    text = re.sub(r'[A-Za-z0-9٠-٩]+', '', text) #Remove english letters,english NO.,Arabic NO. \n",
    "    text = demoji.replace(text, \"\")  #Remove Emojis\n",
    "    return text\n",
    "#Remove repeating character,punctuations,diacritics,stop words,Normalize Arabic\n",
    "delivCOMP['Tweet'] = delivCOMP['Tweet'].astype(str).apply(clean_text)\n",
    "\n",
    "delivCOMP['Tweet'] = delivCOMP['Tweet'].astype(str).apply(cleanTxt)\n",
    "#Remove duplication tweets\n",
    "delivCOMP.drop_duplicates(subset = 'Tweet', inplace = True)\n",
    "\n",
    "# # #Tokenize the text \n",
    "# text = TweetTokenizer()\n",
    "# delivCOMP['Tweet'] = delivCOMP['Tweet'].apply(text.tokenize)"
   ]
  },
  {
   "cell_type": "code",
   "execution_count": 13,
   "id": "806dae07",
   "metadata": {},
   "outputs": [
    {
     "data": {
      "text/html": [
       "<div>\n",
       "<style scoped>\n",
       "    .dataframe tbody tr th:only-of-type {\n",
       "        vertical-align: middle;\n",
       "    }\n",
       "\n",
       "    .dataframe tbody tr th {\n",
       "        vertical-align: top;\n",
       "    }\n",
       "\n",
       "    .dataframe thead th {\n",
       "        text-align: right;\n",
       "    }\n",
       "</style>\n",
       "<table border=\"1\" class=\"dataframe\">\n",
       "  <thead>\n",
       "    <tr style=\"text-align: right;\">\n",
       "      <th></th>\n",
       "      <th>Tweet</th>\n",
       "      <th>Lable</th>\n",
       "      <th>Company</th>\n",
       "    </tr>\n",
       "  </thead>\n",
       "  <tbody>\n",
       "    <tr>\n",
       "      <th>2104</th>\n",
       "      <td>كريم عروضهم حلوه واسعارهم تقريبا المطاعم هنق...</td>\n",
       "      <td>Positive</td>\n",
       "      <td>Careem</td>\n",
       "    </tr>\n",
       "    <tr>\n",
       "      <th>1660</th>\n",
       "      <td>اله يبارك فيكم شكرا شريكنا الميز...</td>\n",
       "      <td>Positive</td>\n",
       "      <td>Jahez</td>\n",
       "    </tr>\n",
       "    <tr>\n",
       "      <th>4785</th>\n",
       "      <td>طفره عندي \\nشكرا  تجاوب جميل \\nبالتوفيق لكم</td>\n",
       "      <td>Positive</td>\n",
       "      <td>Hungrstation</td>\n",
       "    </tr>\n",
       "    <tr>\n",
       "      <th>3600</th>\n",
       "      <td>ياله حسيت بشعور حلو اساعد وحده مضافه عندي بالس...</td>\n",
       "      <td>Positive</td>\n",
       "      <td>Mrsool</td>\n",
       "    </tr>\n",
       "    <tr>\n",
       "      <th>3525</th>\n",
       "      <td>بالنسبه لعميل افضل  وبذات خدمه العملاء\\nطبع...</td>\n",
       "      <td>Positive</td>\n",
       "      <td>Mrsool</td>\n",
       "    </tr>\n",
       "    <tr>\n",
       "      <th>...</th>\n",
       "      <td>...</td>\n",
       "      <td>...</td>\n",
       "      <td>...</td>\n",
       "    </tr>\n",
       "    <tr>\n",
       "      <th>5332</th>\n",
       "      <td>برجاء فتح حسابي تويو</td>\n",
       "      <td>Neutral</td>\n",
       "      <td>ToYou</td>\n",
       "    </tr>\n",
       "    <tr>\n",
       "      <th>5333</th>\n",
       "      <td>تويومودكم تفوزوني وتقولون بالعافيه</td>\n",
       "      <td>Neutral</td>\n",
       "      <td>ToYou</td>\n",
       "    </tr>\n",
       "    <tr>\n",
       "      <th>5334</th>\n",
       "      <td>\\nكود تويو \\n طلب ريال رصيد</td>\n",
       "      <td>Neutral</td>\n",
       "      <td>ToYou</td>\n",
       "    </tr>\n",
       "    <tr>\n",
       "      <th>5348</th>\n",
       "      <td>الحظات اهم اتصال تويو</td>\n",
       "      <td>Neutral</td>\n",
       "      <td>ToYou</td>\n",
       "    </tr>\n",
       "    <tr>\n",
       "      <th>5355</th>\n",
       "      <td>تسجيل مناديب تويو مجاني رقم</td>\n",
       "      <td>Neutral</td>\n",
       "      <td>ToYou</td>\n",
       "    </tr>\n",
       "  </tbody>\n",
       "</table>\n",
       "<p>4529 rows × 3 columns</p>\n",
       "</div>"
      ],
      "text/plain": [
       "                                                  Tweet     Lable  \\\n",
       "2104    كريم عروضهم حلوه واسعارهم تقريبا المطاعم هنق...  Positive   \n",
       "1660                اله يبارك فيكم شكرا شريكنا الميز...  Positive   \n",
       "4785       طفره عندي \\nشكرا  تجاوب جميل \\nبالتوفيق لكم   Positive   \n",
       "3600  ياله حسيت بشعور حلو اساعد وحده مضافه عندي بالس...  Positive   \n",
       "3525     بالنسبه لعميل افضل  وبذات خدمه العملاء\\nطبع...  Positive   \n",
       "...                                                 ...       ...   \n",
       "5332                               برجاء فتح حسابي تويو   Neutral   \n",
       "5333                تويومودكم تفوزوني وتقولون بالعافيه    Neutral   \n",
       "5334                       \\nكود تويو \\n طلب ريال رصيد    Neutral   \n",
       "5348                              الحظات اهم اتصال تويو   Neutral   \n",
       "5355                       تسجيل مناديب تويو مجاني رقم    Neutral   \n",
       "\n",
       "           Company  \n",
       "2104        Careem  \n",
       "1660         Jahez  \n",
       "4785  Hungrstation  \n",
       "3600        Mrsool  \n",
       "3525        Mrsool  \n",
       "...            ...  \n",
       "5332         ToYou  \n",
       "5333         ToYou  \n",
       "5334         ToYou  \n",
       "5348         ToYou  \n",
       "5355         ToYou  \n",
       "\n",
       "[4529 rows x 3 columns]"
      ]
     },
     "execution_count": 13,
     "metadata": {},
     "output_type": "execute_result"
    }
   ],
   "source": [
    "delivCOMP"
   ]
  },
  {
   "cell_type": "code",
   "execution_count": 14,
   "id": "96dfb9eb",
   "metadata": {},
   "outputs": [
    {
     "data": {
      "text/plain": [
       "2822     تقولون  طلبات توصيل بلاش بدون كود  عمري طلبت ...\n",
       "4596     مندوب توصيل سحبتو الفلوس المحفظه وقلتو نزلتوه...\n",
       "2767     حسبي اله ونعم الوكيل ساعه وزياده عشان المندوب...\n",
       "3922                                           الغي الطلب\n",
       "1468                         المندوب وصل الطلب غلط ورف...\n",
       "4049     لاسف سياسيه التطبيق الكابتن تحويل الاموال وجو...\n",
       "3993     دايم اقولها بصراحه يرحم والديكم ترا مندوبينكم...\n",
       "1215     السلام عليكم  الطلب وصلني بدون خبز وحاولت الا...\n",
       "5352                              تويو طالبه ساعه وماوصل \n",
       "3915     طيب وش الحل النصابين\\nيطلبون الطلب ويقول حط ا...\n",
       "4425      معاك لاسف  صاير فاشل  كلمتهم خاص ارسلوك لدعم...\n",
       "933      اكتشفت جاهز سيء  يستطيع حل مشكله تواجه العميل...\n",
       "1899        طلبت عندكم فرع الرس هنقرستيشن وصلني طلبي ناقص\n",
       "4842     طلب طالبه ليا ساعه ونص واتواصل معكم يتكنسل وا...\n",
       "3292     ياخي مندوبك تاخر علينا ساعتين\\nوفوق جاينا الط...\n",
       "4696     شيكت ساعتين افر ولاعرض رخيص وعروض مطاعم مابيه...\n",
       "1201           توني طلبت عندكم وصلني الطلب مفتوح بهالشكل \n",
       "1738                                    وانتظر الطلب يوصل\n",
       "2475      بارفع شكوي تطبيق هنقرستيشن  انتوا الجه المختصه \n",
       "2164    قايز مافي احسن هنقرستيشن اطلبو عندهم تراهم لطي...\n",
       "Name: Tweet, dtype: object"
      ]
     },
     "execution_count": 14,
     "metadata": {},
     "output_type": "execute_result"
    }
   ],
   "source": [
    "# print sample of dataset \n",
    "delivCOMP[\"Tweet\"].sample(20)"
   ]
  },
  {
   "cell_type": "code",
   "execution_count": 15,
   "id": "5875655a",
   "metadata": {},
   "outputs": [
    {
     "data": {
      "text/plain": [
       "(3682, 3)"
      ]
     },
     "execution_count": 15,
     "metadata": {},
     "output_type": "execute_result"
    }
   ],
   "source": [
    "#split the dataset to train - test\n",
    "msk = np.random.rand(len(delivCOMP)) < 0.8\n",
    "df_train = delivCOMP[msk]\n",
    "df_test = delivCOMP[~msk]\n",
    "#print train shape\n",
    "df_train.shape"
   ]
  },
  {
   "cell_type": "code",
   "execution_count": 16,
   "id": "8c1d6f34",
   "metadata": {},
   "outputs": [
    {
     "data": {
      "text/plain": [
       "(847, 3)"
      ]
     },
     "execution_count": 16,
     "metadata": {},
     "output_type": "execute_result"
    }
   ],
   "source": [
    "#print test shape\n",
    "df_test.shape"
   ]
  },
  {
   "cell_type": "code",
   "execution_count": 17,
   "id": "4b5d5903",
   "metadata": {},
   "outputs": [
    {
     "data": {
      "text/plain": [
       "Negative    659\n",
       "Neutral     123\n",
       "Positive     65\n",
       "Name: Lable, dtype: int64"
      ]
     },
     "execution_count": 17,
     "metadata": {},
     "output_type": "execute_result"
    }
   ],
   "source": [
    "#counts each lable for test dataset\n",
    "df_test.Lable.value_counts()"
   ]
  },
  {
   "cell_type": "code",
   "execution_count": 18,
   "id": "58cc4074",
   "metadata": {},
   "outputs": [
    {
     "data": {
      "text/plain": [
       "Negative    2833\n",
       "Neutral      538\n",
       "Positive     311\n",
       "Name: Lable, dtype: int64"
      ]
     },
     "execution_count": 18,
     "metadata": {},
     "output_type": "execute_result"
    }
   ],
   "source": [
    "#counts each lable for test dataset\n",
    "df_train.Lable.value_counts()"
   ]
  },
  {
   "cell_type": "code",
   "execution_count": 19,
   "id": "afa60210",
   "metadata": {},
   "outputs": [],
   "source": [
    "# set hyperparameters\n",
    "maxlen = 64\n",
    "batch_size = 16\n",
    "lr = 2e-5 \n",
    "epochs = 3"
   ]
  },
  {
   "cell_type": "code",
   "execution_count": 20,
   "id": "7f9ab60d",
   "metadata": {},
   "outputs": [],
   "source": [
    "#arabert modelPre-trained Transformers for the Arabic text\n",
    "MODEL_NAME = 'aubmindlab/bert-base-arabertv01'\n",
    "t = text.Transformer(MODEL_NAME, maxlen=maxlen)"
   ]
  },
  {
   "cell_type": "code",
   "execution_count": 21,
   "id": "a2e1eead",
   "metadata": {},
   "outputs": [
    {
     "name": "stdout",
     "output_type": "stream",
     "text": [
      "preprocessing train...\n",
      "language: ar\n",
      "train sequence lengths:\n",
      "\tmean : 12\n",
      "\t95percentile : 27\n",
      "\t99percentile : 35\n"
     ]
    },
    {
     "data": {
      "text/html": [
       "\n",
       "<style>\n",
       "    /* Turns off some styling */\n",
       "    progress {\n",
       "        /* gets rid of default border in Firefox and Opera. */\n",
       "        border: none;\n",
       "        /* Needs to be in here for Safari polyfill so background images work as expected. */\n",
       "        background-size: auto;\n",
       "    }\n",
       "    progress:not([value]), progress:not([value])::-webkit-progress-bar {\n",
       "        background: repeating-linear-gradient(45deg, #7e7e7e, #7e7e7e 10px, #5c5c5c 10px, #5c5c5c 20px);\n",
       "    }\n",
       "    .progress-bar-interrupted, .progress-bar-interrupted::-webkit-progress-bar {\n",
       "        background: #F44336;\n",
       "    }\n",
       "</style>\n"
      ],
      "text/plain": [
       "<IPython.core.display.HTML object>"
      ]
     },
     "metadata": {},
     "output_type": "display_data"
    },
    {
     "data": {
      "text/html": [],
      "text/plain": [
       "<IPython.core.display.HTML object>"
      ]
     },
     "metadata": {},
     "output_type": "display_data"
    },
    {
     "name": "stdout",
     "output_type": "stream",
     "text": [
      "Is Multi-Label? False\n",
      "preprocessing test...\n",
      "language: ar\n",
      "test sequence lengths:\n",
      "\tmean : 12\n",
      "\t95percentile : 25\n",
      "\t99percentile : 36\n"
     ]
    },
    {
     "data": {
      "text/html": [
       "\n",
       "<style>\n",
       "    /* Turns off some styling */\n",
       "    progress {\n",
       "        /* gets rid of default border in Firefox and Opera. */\n",
       "        border: none;\n",
       "        /* Needs to be in here for Safari polyfill so background images work as expected. */\n",
       "        background-size: auto;\n",
       "    }\n",
       "    progress:not([value]), progress:not([value])::-webkit-progress-bar {\n",
       "        background: repeating-linear-gradient(45deg, #7e7e7e, #7e7e7e 10px, #5c5c5c 10px, #5c5c5c 20px);\n",
       "    }\n",
       "    .progress-bar-interrupted, .progress-bar-interrupted::-webkit-progress-bar {\n",
       "        background: #F44336;\n",
       "    }\n",
       "</style>\n"
      ],
      "text/plain": [
       "<IPython.core.display.HTML object>"
      ]
     },
     "metadata": {},
     "output_type": "display_data"
    },
    {
     "data": {
      "text/html": [],
      "text/plain": [
       "<IPython.core.display.HTML object>"
      ]
     },
     "metadata": {},
     "output_type": "display_data"
    }
   ],
   "source": [
    "trn = t.preprocess_train(df_train.Tweet.values, df_train.Lable.values)\n",
    "tst = t.preprocess_test(df_test.Tweet.values, df_test.Lable.values)"
   ]
  },
  {
   "cell_type": "code",
   "execution_count": 22,
   "id": "1bdd283a",
   "metadata": {},
   "outputs": [],
   "source": [
    "model = t.get_classifier()\n",
    "learner = ktrain.get_learner(model, train_data=trn, val_data=tst, batch_size=batch_size)"
   ]
  },
  {
   "cell_type": "code",
   "execution_count": 23,
   "id": "f36dc435",
   "metadata": {},
   "outputs": [
    {
     "name": "stdout",
     "output_type": "stream",
     "text": [
      "\n",
      "\n",
      "begin training using onecycle policy with max lr of 2e-05...\n",
      "Epoch 1/3\n",
      "231/231 [==============================] - 1383s 6s/step - loss: 0.5798 - accuracy: 0.7868 - val_loss: 0.4425 - val_accuracy: 0.8501\n",
      "Epoch 2/3\n",
      "231/231 [==============================] - 1555s 7s/step - loss: 0.4029 - accuracy: 0.8561 - val_loss: 0.3466 - val_accuracy: 0.8642\n",
      "Epoch 3/3\n",
      "231/231 [==============================] - 2240s 10s/step - loss: 0.2385 - accuracy: 0.9188 - val_loss: 0.3532 - val_accuracy: 0.8654\n"
     ]
    }
   ],
   "source": [
    "history = learner.fit_onecycle(lr, epochs)"
   ]
  },
  {
   "cell_type": "code",
   "execution_count": 24,
   "id": "b09d8aba",
   "metadata": {},
   "outputs": [
    {
     "name": "stdout",
     "output_type": "stream",
     "text": [
      "27/27 [==============================] - 82s 3s/step\n",
      "              precision    recall  f1-score   support\n",
      "\n",
      "           0       0.90      0.95      0.93       659\n",
      "           1       0.65      0.50      0.57       123\n",
      "           2       0.78      0.71      0.74        65\n",
      "\n",
      "    accuracy                           0.87       847\n",
      "   macro avg       0.78      0.72      0.74       847\n",
      "weighted avg       0.86      0.87      0.86       847\n",
      "\n"
     ]
    },
    {
     "data": {
      "text/plain": [
       "array([[625,  29,   5],\n",
       "       [ 53,  62,   8],\n",
       "       [ 14,   5,  46]])"
      ]
     },
     "execution_count": 24,
     "metadata": {},
     "output_type": "execute_result"
    }
   ],
   "source": [
    "learner.validate(val_data=tst) # summery"
   ]
  },
  {
   "cell_type": "code",
   "execution_count": 25,
   "id": "2d2a2ef6",
   "metadata": {},
   "outputs": [],
   "source": [
    "p = ktrain.get_predictor(learner.model, t)"
   ]
  },
  {
   "cell_type": "code",
   "execution_count": 26,
   "id": "c68d02d5",
   "metadata": {},
   "outputs": [
    {
     "name": "stdout",
     "output_type": "stream",
     "text": [
      "1/1 [==============================] - 0s 107ms/step\n"
     ]
    },
    {
     "data": {
      "text/plain": [
       "'Positive'"
      ]
     },
     "execution_count": 26,
     "metadata": {},
     "output_type": "execute_result"
    }
   ],
   "source": [
    "p.predict(\"الهلال افضل فريق كورة\")"
   ]
  },
  {
   "cell_type": "code",
   "execution_count": 27,
   "id": "62c8d81d",
   "metadata": {},
   "outputs": [
    {
     "name": "stdout",
     "output_type": "stream",
     "text": [
      "1/1 [==============================] - 0s 97ms/step\n"
     ]
    },
    {
     "data": {
      "text/plain": [
       "'Positive'"
      ]
     },
     "execution_count": 27,
     "metadata": {},
     "output_type": "execute_result"
    }
   ],
   "source": [
    "p.predict(\"هنقرستيشن افضل تطبيق توصيل\")"
   ]
  },
  {
   "cell_type": "code",
   "execution_count": 28,
   "id": "bfa9fb83",
   "metadata": {},
   "outputs": [
    {
     "name": "stdout",
     "output_type": "stream",
     "text": [
      "1/1 [==============================] - 0s 99ms/step\n"
     ]
    },
    {
     "data": {
      "text/plain": [
       "'Negative'"
      ]
     },
     "execution_count": 28,
     "metadata": {},
     "output_type": "execute_result"
    }
   ],
   "source": [
    "p.predict(\"مرسول اسوأ تطبيق توصيل\")"
   ]
  },
  {
   "cell_type": "code",
   "execution_count": 29,
   "id": "284859c9",
   "metadata": {},
   "outputs": [
    {
     "name": "stdout",
     "output_type": "stream",
     "text": [
      "1/1 [==============================] - 0s 99ms/step\n"
     ]
    },
    {
     "data": {
      "text/plain": [
       "'Negative'"
      ]
     },
     "execution_count": 29,
     "metadata": {},
     "output_type": "execute_result"
    }
   ],
   "source": [
    "p.predict(\"جاهز رجعوا فلوسي\")"
   ]
  },
  {
   "cell_type": "code",
   "execution_count": 30,
   "id": "ee46f7ac",
   "metadata": {},
   "outputs": [
    {
     "name": "stdout",
     "output_type": "stream",
     "text": [
      "1/1 [==============================] - 0s 86ms/step\n"
     ]
    },
    {
     "data": {
      "text/plain": [
       "'Positive'"
      ]
     },
     "execution_count": 30,
     "metadata": {},
     "output_type": "execute_result"
    }
   ],
   "source": [
    "p.predict(\"شكرا لكم\")"
   ]
  },
  {
   "cell_type": "code",
   "execution_count": 31,
   "id": "0eceb4ed",
   "metadata": {},
   "outputs": [
    {
     "name": "stdout",
     "output_type": "stream",
     "text": [
      "1/1 [==============================] - 0s 89ms/step\n"
     ]
    },
    {
     "data": {
      "text/plain": [
       "'Negative'"
      ]
     },
     "execution_count": 31,
     "metadata": {},
     "output_type": "execute_result"
    }
   ],
   "source": [
    "p.predict(\"هنقرستيشن حرامية\")"
   ]
  },
  {
   "cell_type": "code",
   "execution_count": 32,
   "id": "723944a1",
   "metadata": {},
   "outputs": [
    {
     "name": "stdout",
     "output_type": "stream",
     "text": [
      "1/1 [==============================] - 0s 84ms/step\n"
     ]
    },
    {
     "data": {
      "text/plain": [
       "'Negative'"
      ]
     },
     "execution_count": 32,
     "metadata": {},
     "output_type": "execute_result"
    }
   ],
   "source": [
    "p.predict(\"ردوا على الخاص\")"
   ]
  },
  {
   "cell_type": "code",
   "execution_count": 33,
   "id": "cd812469",
   "metadata": {},
   "outputs": [
    {
     "name": "stdout",
     "output_type": "stream",
     "text": [
      "1/1 [==============================] - 0s 84ms/step\n"
     ]
    },
    {
     "data": {
      "text/plain": [
       "'Negative'"
      ]
     },
     "execution_count": 33,
     "metadata": {},
     "output_type": "execute_result"
    }
   ],
   "source": [
    "p.predict(\"المندوب تأخر \")"
   ]
  },
  {
   "cell_type": "code",
   "execution_count": 46,
   "id": "73a4e29c",
   "metadata": {},
   "outputs": [
    {
     "name": "stdout",
     "output_type": "stream",
     "text": [
      "1/1 [==============================] - 0s 397ms/step\n"
     ]
    },
    {
     "data": {
      "text/plain": [
       "'Negative'"
      ]
     },
     "execution_count": 46,
     "metadata": {},
     "output_type": "execute_result"
    }
   ],
   "source": [
    "p.predict(\"المندوب تأخر جدا \")"
   ]
  },
  {
   "cell_type": "code",
   "execution_count": 50,
   "id": "348d45a2",
   "metadata": {},
   "outputs": [
    {
     "ename": "SyntaxError",
     "evalue": "invalid syntax (2093024014.py, line 15)",
     "output_type": "error",
     "traceback": [
      "\u001b[0;36m  File \u001b[0;32m\"/var/folders/k1/y1rgwdp90bg_7mp8yxj4tnc40000gn/T/ipykernel_4865/2093024014.py\"\u001b[0;36m, line \u001b[0;32m15\u001b[0m\n\u001b[0;31m    inputtxt = tk.Text(frame,\u001b[0m\n\u001b[0m    ^\u001b[0m\n\u001b[0;31mSyntaxError\u001b[0m\u001b[0;31m:\u001b[0m invalid syntax\n"
     ]
    }
   ],
   "source": [
    "from tkinter import *\n",
    "# Top level window\n",
    "frame = tk.Tk()\n",
    "frame.title(\"TextBox Input\")\n",
    "frame.geometry('400x200')\n",
    "\n",
    "top.geometry(\"500x300\")\n",
    "\n",
    "def printInput():\n",
    "\tinp = inputtxt.get(1.0, \"end-1c\")\n",
    "\tlbl.config(text = \"Provided Input: \"+p.predict(str(inp))\n",
    "\n",
    "\n",
    "# TextBox Creation\n",
    "inputtxt = tk.Text(frame,\n",
    "\t\t\t\theight = 5,\n",
    "\t\t\t\twidth = 20)\n",
    "\n",
    "inputtxt.pack()\n",
    " \n",
    "\n",
    "# Button Creation\n",
    "printButton = tk.Button(frame,\n",
    "\t\t\t\t\t\ttext = \"Print\",\n",
    "\t\t\t\t\t\tcommand = printInput)\n",
    "printButton.pack()\n",
    "\n",
    "# Label Creation\n",
    "lbl = tk.Label(frame, text = \"\")\n",
    "lbl.pack()\n",
    "frame.mainloop()\n",
    "\n",
    "\n"
   ]
  },
  {
   "cell_type": "code",
   "execution_count": null,
   "id": "acb9d257",
   "metadata": {},
   "outputs": [],
   "source": []
  }
 ],
 "metadata": {
  "kernelspec": {
   "display_name": "Python 3 (ipykernel)",
   "language": "python",
   "name": "python3"
  },
  "language_info": {
   "codemirror_mode": {
    "name": "ipython",
    "version": 3
   },
   "file_extension": ".py",
   "mimetype": "text/x-python",
   "name": "python",
   "nbconvert_exporter": "python",
   "pygments_lexer": "ipython3",
   "version": "3.9.7"
  }
 },
 "nbformat": 4,
 "nbformat_minor": 5
}
